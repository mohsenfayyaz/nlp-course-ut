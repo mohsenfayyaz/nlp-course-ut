{
 "cells": [
  {
   "cell_type": "code",
   "execution_count": 6,
   "metadata": {},
   "outputs": [],
   "source": [
    "from datasets import load_dataset, load_metric, Dataset, DatasetDict\n",
    "from transformers import AutoTokenizer\n",
    "from transformers import AutoModelForSequenceClassification\n",
    "from transformers import TrainingArguments, Trainer\n",
    "from transformers import DefaultDataCollator\n",
    "import pandas as pd\n",
    "import matplotlib.pyplot as plt\n",
    "import numpy as np\n",
    "from tqdm.auto import tqdm"
   ]
  },
  {
   "cell_type": "markdown",
   "metadata": {
    "collapsed": true
   },
   "source": [
    "# Load Data"
   ]
  },
  {
   "cell_type": "code",
   "execution_count": 3,
   "metadata": {},
   "outputs": [
    {
     "data": {
      "text/html": [
       "<div>\n",
       "<style scoped>\n",
       "    .dataframe tbody tr th:only-of-type {\n",
       "        vertical-align: middle;\n",
       "    }\n",
       "\n",
       "    .dataframe tbody tr th {\n",
       "        vertical-align: top;\n",
       "    }\n",
       "\n",
       "    .dataframe thead th {\n",
       "        text-align: right;\n",
       "    }\n",
       "</style>\n",
       "<table border=\"1\" class=\"dataframe\">\n",
       "  <thead>\n",
       "    <tr style=\"text-align: right;\">\n",
       "      <th></th>\n",
       "      <th>source</th>\n",
       "      <th>targets</th>\n",
       "      <th>category</th>\n",
       "    </tr>\n",
       "  </thead>\n",
       "  <tbody>\n",
       "    <tr>\n",
       "      <th>0</th>\n",
       "      <td>When news is brought to one of them, of (the b...</td>\n",
       "      <td>و چون یکی از آنان را به [ولادت] دختر مژده دهند...</td>\n",
       "      <td>quran</td>\n",
       "    </tr>\n",
       "    <tr>\n",
       "      <th>1</th>\n",
       "      <td>After them repaired Zadok the son of Immer ove...</td>\n",
       "      <td>و چون دشمنان ما شنیدند که ما آگاه شده‌ایم و خد...</td>\n",
       "      <td>bible</td>\n",
       "    </tr>\n",
       "    <tr>\n",
       "      <th>2</th>\n",
       "      <td>And establish regular prayers at the two ends ...</td>\n",
       "      <td>و نماز را در دو طرف روز و ساعات نخستین شب برپا...</td>\n",
       "      <td>quran</td>\n",
       "    </tr>\n",
       "    <tr>\n",
       "      <th>3</th>\n",
       "      <td>And it came to pass, that, when I was come aga...</td>\n",
       "      <td>و فرمود تا مدعیانش نزد تو حاضر شوند؛ و از او ب...</td>\n",
       "      <td>bible</td>\n",
       "    </tr>\n",
       "    <tr>\n",
       "      <th>4</th>\n",
       "      <td>Ah woe, that Day, to the Rejecters of Truth!</td>\n",
       "      <td>وای در آن روز بر تکذیب کنندگان!</td>\n",
       "      <td>quran</td>\n",
       "    </tr>\n",
       "    <tr>\n",
       "      <th>...</th>\n",
       "      <td>...</td>\n",
       "      <td>...</td>\n",
       "      <td>...</td>\n",
       "    </tr>\n",
       "    <tr>\n",
       "      <th>12595</th>\n",
       "      <td>Women impure are for men impure, and men impur...</td>\n",
       "      <td>زنان پلید برای مردان پلید و مردان پلید برای زن...</td>\n",
       "      <td>quran</td>\n",
       "    </tr>\n",
       "    <tr>\n",
       "      <th>12596</th>\n",
       "      <td>I don't want any silly dance given in my honour.'</td>\n",
       "      <td>بنابراین حالا هم میل ندارم جشنی به افتخار من د...</td>\n",
       "      <td>mizan</td>\n",
       "    </tr>\n",
       "    <tr>\n",
       "      <th>12597</th>\n",
       "      <td>And the Earth will shine with the Glory of its...</td>\n",
       "      <td>و زمین به نور پروردگارش روشن می‌شود، و کتاب [ا...</td>\n",
       "      <td>quran</td>\n",
       "    </tr>\n",
       "    <tr>\n",
       "      <th>12598</th>\n",
       "      <td>Then lifted I up mine eyes, and saw, and behol...</td>\n",
       "      <td>گفتم: «این چیست؟» او جواب داد: «این است آن ایف...</td>\n",
       "      <td>bible</td>\n",
       "    </tr>\n",
       "    <tr>\n",
       "      <th>12599</th>\n",
       "      <td>His soul was dried up.</td>\n",
       "      <td>روح خشکیده بود.</td>\n",
       "      <td>mizan</td>\n",
       "    </tr>\n",
       "  </tbody>\n",
       "</table>\n",
       "<p>12600 rows × 3 columns</p>\n",
       "</div>"
      ],
      "text/plain": [
       "                                                  source  \\\n",
       "0      When news is brought to one of them, of (the b...   \n",
       "1      After them repaired Zadok the son of Immer ove...   \n",
       "2      And establish regular prayers at the two ends ...   \n",
       "3      And it came to pass, that, when I was come aga...   \n",
       "4           Ah woe, that Day, to the Rejecters of Truth!   \n",
       "...                                                  ...   \n",
       "12595  Women impure are for men impure, and men impur...   \n",
       "12596  I don't want any silly dance given in my honour.'   \n",
       "12597  And the Earth will shine with the Glory of its...   \n",
       "12598  Then lifted I up mine eyes, and saw, and behol...   \n",
       "12599                             His soul was dried up.   \n",
       "\n",
       "                                                 targets category  \n",
       "0      و چون یکی از آنان را به [ولادت] دختر مژده دهند...    quran  \n",
       "1      و چون دشمنان ما شنیدند که ما آگاه شده‌ایم و خد...    bible  \n",
       "2      و نماز را در دو طرف روز و ساعات نخستین شب برپا...    quran  \n",
       "3      و فرمود تا مدعیانش نزد تو حاضر شوند؛ و از او ب...    bible  \n",
       "4                        وای در آن روز بر تکذیب کنندگان!    quran  \n",
       "...                                                  ...      ...  \n",
       "12595  زنان پلید برای مردان پلید و مردان پلید برای زن...    quran  \n",
       "12596  بنابراین حالا هم میل ندارم جشنی به افتخار من د...    mizan  \n",
       "12597  و زمین به نور پروردگارش روشن می‌شود، و کتاب [ا...    quran  \n",
       "12598  گفتم: «این چیست؟» او جواب داد: «این است آن ایف...    bible  \n",
       "12599                                    روح خشکیده بود.    mizan  \n",
       "\n",
       "[12600 rows x 3 columns]"
      ]
     },
     "execution_count": 3,
     "metadata": {},
     "output_type": "execute_result"
    }
   ],
   "source": [
    "df = pd.read_excel(\"Question2_Data/train.xlsx\")\n",
    "df"
   ]
  },
  {
   "cell_type": "code",
   "execution_count": 8,
   "metadata": {},
   "outputs": [
    {
     "data": {
      "text/plain": [
       "DatasetDict({\n",
       "    train: Dataset({\n",
       "        features: ['source', 'targets', 'category'],\n",
       "        num_rows: 12600\n",
       "    })\n",
       "    valid: Dataset({\n",
       "        features: ['source', 'targets', 'category'],\n",
       "        num_rows: 2700\n",
       "    })\n",
       "    test: Dataset({\n",
       "        features: ['source', 'targets', 'category'],\n",
       "        num_rows: 2700\n",
       "    })\n",
       "})"
      ]
     },
     "execution_count": 8,
     "metadata": {},
     "output_type": "execute_result"
    }
   ],
   "source": [
    "dataset = DatasetDict()\n",
    "for data_set in [\"train\", \"valid\", \"test\"]:\n",
    "    dataset[data_set] = Dataset.from_pandas(pd.read_excel(f\"Question2_Data/{data_set}.xlsx\"))\n",
    "dataset"
   ]
  },
  {
   "cell_type": "markdown",
   "metadata": {},
   "source": [
    "# 1)"
   ]
  },
  {
   "cell_type": "code",
   "execution_count": null,
   "metadata": {},
   "outputs": [],
   "source": []
  }
 ],
 "metadata": {
  "kernelspec": {
   "display_name": "Python 3",
   "language": "python",
   "name": "python3"
  },
  "language_info": {
   "codemirror_mode": {
    "name": "ipython",
    "version": 3
   },
   "file_extension": ".py",
   "mimetype": "text/x-python",
   "name": "python",
   "nbconvert_exporter": "python",
   "pygments_lexer": "ipython3",
   "version": "3.7.3"
  }
 },
 "nbformat": 4,
 "nbformat_minor": 1
}
